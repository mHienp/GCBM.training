{
  "nbformat": 4,
  "nbformat_minor": 0,
  "metadata": {
    "colab": {
      "provenance": []
    },
    "kernelspec": {
      "name": "python3",
      "display_name": "Python 3"
    },
    "language_info": {
      "name": "python"
    }
  },
  "cells": [
    {
      "cell_type": "code",
      "source": [
        "# Belize custom decay parameters\n",
        "df=pd.read_csv('/content/decay_parameters.csv')"
      ],
      "metadata": {
        "id": "cvPI51uMHaHi"
      },
      "execution_count": null,
      "outputs": []
    },
    {
      "cell_type": "code",
      "source": [
        "print(df.iloc[2])"
      ],
      "metadata": {
        "colab": {
          "base_uri": "https://localhost:8080/"
        },
        "id": "h7LzuGelqOCo",
        "outputId": "ae65519a-3127-4d16-9106-022a7ce6f148"
      },
      "execution_count": null,
      "outputs": [
        {
          "output_type": "stream",
          "name": "stdout",
          "text": [
            "Parameter_ID                                                                              D3\n",
            "dom_pool_id                                                                                3\n",
            "base_decay_rate                                                                        1.118\n",
            "reference_temp                                                                            10\n",
            "q10 (temperature sensitivity parameter)                                                 3.06\n",
            "prop_to_atmosphere                                                                     0.815\n",
            "max_rate                                                                                 1.0\n",
            "Paper                                      Salinas, N., et al. \"The sensitivity of tropic...\n",
            "Source_Pool                                                          AboveGroundVeryFastSoil\n",
            "Receiving_Pool                                                           AboveGroundSlowSoil\n",
            "Explanation                                Foliar litter to F, H and O Horizons and to at...\n",
            "Name: 2, dtype: object\n"
          ]
        }
      ]
    },
    {
      "cell_type": "markdown",
      "source": [
        "**The sensitivity of tropical leaf litter decomposition to temperature: Results from a large-scale leaf translocation experiment along an elevation gradient in Peruvian forests**\n",
        "\n",
        "https://www.researchgate.net/profile/Rosa-Maria-Roman-Cuesta-2/publication/47793245_The_sensitivity_of_tropical_leaf_litter_decomposition_to_temperature_Results_from_a_large-scale_leaf_translocation_experiment_along_an_elevation_gradient_in_Peruvian_forests/links/5ecfdbc692851c9c5e65b74f/The-sensitivity-of-tropical-leaf-litter-decomposition-to-temperature-Results-from-a-large-scale-leaf-translocation-experiment-along-an-elevation-gradient-in-Peruvian-forests.pdf\n",
        "\n"
      ],
      "metadata": {
        "id": "HcnE38HCq4Vg"
      }
    },
    {
      "cell_type": "code",
      "source": [
        "with open('/content/litterfall.Salinasetal.2010.txt', 'r') as file:\n",
        "    text = file.read()"
      ],
      "metadata": {
        "id": "VuqYBVVK1nEO"
      },
      "execution_count": null,
      "outputs": []
    },
    {
      "cell_type": "code",
      "source": [
        "len(text)"
      ],
      "metadata": {
        "colab": {
          "base_uri": "https://localhost:8080/"
        },
        "id": "KyyQz2jpDFax",
        "outputId": "e1a3fd72-0339-448c-8735-49ff0b25bf28"
      },
      "execution_count": null,
      "outputs": [
        {
          "output_type": "execute_result",
          "data": {
            "text/plain": [
              "50560"
            ]
          },
          "metadata": {},
          "execution_count": 13
        }
      ]
    },
    {
      "cell_type": "code",
      "source": [
        "while True:\n",
        "  question = input(\"\\nHi, what would you like to know ? (type 'quit' to end session)\\n\")\n",
        "  if question.lower() == 'quit':\n",
        "    break\n",
        "\n",
        "  try:\n",
        "    max_sent = input(\"\\nSpecify the max number of sentences.\\n\")\n",
        "    output = process(text, question, max_sent)\n",
        "    if not output:\n",
        "      print(\"It seems I don't have this info. Please try another phrasing.\")\n",
        "    else:\n",
        "      visualize(question, output)\n",
        "  except ValueError:\n",
        "    print(\"Please enter a valid number.\")"
      ],
      "metadata": {
        "id": "BWk2AeRjD6-A",
        "colab": {
          "base_uri": "https://localhost:8080/",
          "height": 1000
        },
        "outputId": "c71275a1-3de5-4b21-9a0d-095be30a6e0b"
      },
      "execution_count": 22,
      "outputs": [
        {
          "name": "stdout",
          "output_type": "stream",
          "text": [
            "\n",
            "Hi, what would you like to know ? (type 'quit' to end session)\n",
            "q10\n",
            "\n",
            "Specify the max number of sentences.\n",
            "5\n"
          ]
        },
        {
          "output_type": "display_data",
          "data": {
            "text/plain": [
              "<IPython.core.display.HTML object>"
            ],
            "text/html": [
              "<h3 style=\"color: #036137;\">Answer - q10</h3>"
            ]
          },
          "metadata": {}
        },
        {
          "output_type": "display_data",
          "data": {
            "text/plain": [
              "<IPython.core.display.HTML object>"
            ],
            "text/html": [
              "<p>The value of Q10 is\n",
              "higher than that found for some heterotrophic processes,\n",
              "and is substantially higher than assumed in many ecosystem\n",
              "models (where Q10 is typically assumed to be c. 2; Hyvo\n",
              "¨nen\n",
              "et al., 2005).\n",
              "In ecophysiological literature, this temperature sensitivity\n",
              "is often expressed as a Q10 coefﬁcient, where Q10 is the\n",
              "change in the decay constant associated with a 10\u0002C change\n",
              "in temperature:\n",
              "Q10 = expð10jTÞ\n",
              "Results\n",
              "The variation of climate (temperature, rainfall, mean soil\n",
              "moisture) with elevation is given in Table 1.\n",
              "This is equivalent to a temperature sensitivity parameter\n",
              "(Q10) for litter decay of 3.06 ± 0.28, higher than that frequently assumed for\n",
              "heterotrophic processes.\n",
              "We found substantial site-to-site\n",
              "variation, but little evidence of an overall trend in either the\n",
              "temperature-adjusted decay rate (k15) or the sensitivity to\n",
              "temperature (jT or Q10).\n",
              "The mean value of jT across the\n",
              "study (all 15 species) is 0.118 ± 0.009\u0002C)1, from which we\n",
              "calculate a mean Q10 value of 3.06 ± 0.28 across the whole\n",
              "decomposition experiment.<br></br></p><hr>"
            ]
          },
          "metadata": {}
        },
        {
          "name": "stdout",
          "output_type": "stream",
          "text": [
            "\n",
            "Hi, what would you like to know ? (type 'quit' to end session)\n",
            "k\n",
            "\n",
            "Specify the max number of sentences.\n",
            "3\n"
          ]
        },
        {
          "output_type": "display_data",
          "data": {
            "text/plain": [
              "<IPython.core.display.HTML object>"
            ],
            "text/html": [
              "<h3 style=\"color: #036137;\">Answer - k</h3>"
            ]
          },
          "metadata": {}
        },
        {
          "output_type": "display_data",
          "data": {
            "text/plain": [
              "<IPython.core.display.HTML object>"
            ],
            "text/html": [
              "<p>Bold values indicate the mean k of all species decaying at each site.\n",
              "(b) The relationship between the mean\n",
              "decay rate (k, averaged across all 15 species) and temperature.\n",
              "All species tend to show\n",
              "a decline in k with elevation.<br></br></p><hr>"
            ]
          },
          "metadata": {}
        },
        {
          "name": "stdout",
          "output_type": "stream",
          "text": [
            "\n",
            "Hi, what would you like to know ? (type 'quit' to end session)\n",
            "study site\n",
            "\n",
            "Specify the max number of sentences.\n",
            "3\n"
          ]
        },
        {
          "output_type": "display_data",
          "data": {
            "text/plain": [
              "<IPython.core.display.HTML object>"
            ],
            "text/html": [
              "<h3 style=\"color: #036137;\">Answer - study site</h3>"
            ]
          },
          "metadata": {}
        },
        {
          "output_type": "display_data",
          "data": {
            "text/plain": [
              "<IPython.core.display.HTML object>"
            ],
            "text/html": [
              "<p>Biogeographical and ecological\n",
              "studies.\n",
              "Materials and Methods\n",
              "Study site\n",
              "We installed a 1.5-yr-long (448 d) reciprocal transplant and\n",
              "decomposition study in ﬁve tropical forest plots along a c.\n",
              "2800-m elevation transect in Peru (Fig.\n",
              "2(a) (by site) and Fig.<br></br></p><hr>"
            ]
          },
          "metadata": {}
        },
        {
          "name": "stdout",
          "output_type": "stream",
          "text": [
            "\n",
            "Hi, what would you like to know ? (type 'quit' to end session)\n",
            "species\n",
            "\n",
            "Specify the max number of sentences.\n",
            "3\n"
          ]
        },
        {
          "output_type": "display_data",
          "data": {
            "text/plain": [
              "<IPython.core.display.HTML object>"
            ],
            "text/html": [
              "<h3 style=\"color: #036137;\">Answer - species</h3>"
            ]
          },
          "metadata": {}
        },
        {
          "output_type": "display_data",
          "data": {
            "text/plain": [
              "<IPython.core.display.HTML object>"
            ],
            "text/html": [
              "<p>The same set-up was repeated for three dominant species\n",
              "from each plot (3 species · 5 plots = 15 sample species in\n",
              "total).\n",
              "3(a) (by species) plot\n",
              "the estimated mean leaf decay time (in years) for leaf litter\n",
              "at each plot, across all species, and for only species originat-\n",
              "ing from the same plot.\n",
              "For each species, the mean decay rate of that species along\n",
              "the altitudinal gradient was regressed against site mean soil\n",
              "temperature using an exponential ﬁt.<br></br></p><hr>"
            ]
          },
          "metadata": {}
        },
        {
          "name": "stdout",
          "output_type": "stream",
          "text": [
            "\n",
            "Hi, what would you like to know ? (type 'quit' to end session)\n",
            "decay\n",
            "\n",
            "Specify the max number of sentences.\n",
            "3\n"
          ]
        },
        {
          "output_type": "display_data",
          "data": {
            "text/plain": [
              "<IPython.core.display.HTML object>"
            ],
            "text/html": [
              "<h3 style=\"color: #036137;\">Answer - decay</h3>"
            ]
          },
          "metadata": {}
        },
        {
          "output_type": "display_data",
          "data": {
            "text/plain": [
              "<IPython.core.display.HTML object>"
            ],
            "text/html": [
              "<p>Species with a high intrinsic decay rate\n",
              "have decay rates that are less sensitive to temperature.\n",
              "4 A plot of jT against k15, showing the relationship between\n",
              "the (temperature-corrected) decay rate and the sensitivity of the\n",
              "decay rate to temperature.\n",
              "The relationship between\n",
              "the (temperature-adjusted) decay rate and the sensitivity to\n",
              "temperature (Fig.<br></br></p><hr>"
            ]
          },
          "metadata": {}
        },
        {
          "name": "stdout",
          "output_type": "stream",
          "text": [
            "\n",
            "Hi, what would you like to know ? (type 'quit' to end session)\n",
            "elevation\n",
            "\n",
            "Specify the max number of sentences.\n",
            "3\n"
          ]
        },
        {
          "output_type": "display_data",
          "data": {
            "text/plain": [
              "<IPython.core.display.HTML object>"
            ],
            "text/html": [
              "<h3 style=\"color: #036137;\">Answer - elevation</h3>"
            ]
          },
          "metadata": {}
        },
        {
          "output_type": "display_data",
          "data": {
            "text/plain": [
              "<IPython.core.display.HTML object>"
            ],
            "text/html": [
              "<p>at 2720-m elevation.\n",
              "There is no overall trend in k15 against\n",
              "source elevation, but signiﬁcantly higher values in material\n",
              "from 1500- and 3025-m elevation.\n",
              "Is there a relationship between the source elevation of\n",
              "the material and the decay rate?<br></br></p><hr>"
            ]
          },
          "metadata": {}
        },
        {
          "name": "stdout",
          "output_type": "stream",
          "text": [
            "\n",
            "Hi, what would you like to know ? (type 'quit' to end session)\n",
            "temperature\n",
            "\n",
            "Specify the max number of sentences.\n",
            "3\n"
          ]
        },
        {
          "output_type": "display_data",
          "data": {
            "text/plain": [
              "<IPython.core.display.HTML object>"
            ],
            "text/html": [
              "<h3 style=\"color: #036137;\">Answer - temperature</h3>"
            ]
          },
          "metadata": {}
        },
        {
          "output_type": "display_data",
          "data": {
            "text/plain": [
              "<IPython.core.display.HTML object>"
            ],
            "text/html": [
              "<p>From the exponential relationship with temperature, the\n",
              "species-speciﬁc temperature sensitivity jT and a temperature-\n",
              "adjusted decay rate (k15, an estimate of the decomposition\n",
              "rate at a mean soil temperature of 15\u0002C) were derived for\n",
              "each sample (Fig.\n",
              "(b) Mean decomposition rate corrected to a standardized temperature of 15\u0002C using an exponential ﬁt against mean soil\n",
              "temperature.\n",
              "• How much of the variation in the decomposition rate\n",
              "can be explained by temperature, and what is the sensitivity\n",
              "of leaf decomposition to temperature?<br></br></p><hr>"
            ]
          },
          "metadata": {}
        },
        {
          "name": "stdout",
          "output_type": "stream",
          "text": [
            "\n",
            "Hi, what would you like to know ? (type 'quit' to end session)\n",
            "litterfall\n",
            "\n",
            "Specify the max number of sentences.\n",
            "3\n"
          ]
        },
        {
          "output_type": "display_data",
          "data": {
            "text/plain": [
              "<IPython.core.display.HTML object>"
            ],
            "text/html": [
              "<h3 style=\"color: #036137;\">Answer - litterfall</h3>"
            ]
          },
          "metadata": {}
        },
        {
          "output_type": "display_data",
          "data": {
            "text/plain": [
              "<IPython.core.display.HTML object>"
            ],
            "text/html": [
              "<p>Litterfall, nutrient cycling, and nutrient limitation in\n",
              "tropical forests.\n",
              "Regional and seasonal patterns of litterfall in tropical South America.\n",
              "For the analysis presented here,\n",
              "we concentrate on senescent leaves from litterfall; in another\n",
              "paper, we will explore the differences between fresh and\n",
              "senescent leaves.<br></br></p><hr>"
            ]
          },
          "metadata": {}
        },
        {
          "name": "stdout",
          "output_type": "stream",
          "text": [
            "\n",
            "Hi, what would you like to know ? (type 'quit' to end session)\n",
            "quit\n"
          ]
        }
      ]
    },
    {
      "cell_type": "code",
      "source": [],
      "metadata": {
        "id": "4FIx2w4Wp6R1"
      },
      "execution_count": null,
      "outputs": []
    }
  ]
}