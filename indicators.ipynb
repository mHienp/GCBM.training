{
  "nbformat": 4,
  "nbformat_minor": 0,
  "metadata": {
    "colab": {
      "provenance": []
    },
    "kernelspec": {
      "name": "python3",
      "display_name": "Python 3"
    },
    "language_info": {
      "name": "python"
    }
  },
  "cells": [
    {
      "cell_type": "code",
      "source": [
        "import sqlite3\n",
        "import pandas as pd"
      ],
      "metadata": {
        "id": "6ZbIB-Vyvz8W"
      },
      "execution_count": 1,
      "outputs": []
    },
    {
      "cell_type": "code",
      "source": [
        "conn = sqlite3.connect(\"compiled_gcbm_output.db\")\n",
        "\n",
        "# Create a cursor object\n",
        "cur = conn.cursor()"
      ],
      "metadata": {
        "id": "DhHnhb7Mv_rd"
      },
      "execution_count": 2,
      "outputs": []
    },
    {
      "cell_type": "code",
      "source": [
        "# Execute the SQL query to get the table names\n",
        "cur.execute(\"SELECT name FROM sqlite_master WHERE type='table';\")\n",
        "\n",
        "# Get the result set as a list of tuples\n",
        "result = cur.fetchall()\n",
        "\n",
        "# Print the number of tables\n",
        "print(\"The database has\", len(result), \"tables.\")"
      ],
      "metadata": {
        "id": "3Rr_iGn4v9vu",
        "colab": {
          "base_uri": "https://localhost:8080/"
        },
        "outputId": "402629b3-311d-4c1f-967c-bb4d516e426e"
      },
      "execution_count": 3,
      "outputs": [
        {
          "output_type": "stream",
          "name": "stdout",
          "text": [
            "The database has 12 tables.\n"
          ]
        }
      ]
    },
    {
      "cell_type": "code",
      "execution_count": 4,
      "metadata": {
        "id": "4kK7C3OfvkhR",
        "colab": {
          "base_uri": "https://localhost:8080/"
        },
        "outputId": "4a883c11-86d1-421b-b605-d5dafb887853"
      },
      "outputs": [
        {
          "output_type": "stream",
          "name": "stdout",
          "text": [
            "v_age_indicators\n",
            "v_disturbance_fluxes\n",
            "v_disturbance_indicators\n",
            "v_error_indicators\n",
            "v_flux_indicator_aggregates\n",
            "v_flux_indicator_aggregates_density\n",
            "v_flux_indicators\n",
            "v_flux_indicators_density\n",
            "v_pool_indicators\n",
            "v_stock_change_indicators\n",
            "v_stock_change_indicators_density\n",
            "v_total_disturbed_areas\n"
          ]
        }
      ],
      "source": [
        "# Create an empty list to hold the table names\n",
        "table_names = []\n",
        "\n",
        "# Loop through each table and append its name to the list\n",
        "for row in result:\n",
        "    table_names.append(row[0])\n",
        "\n",
        "# Print the list of table names\n",
        "for table_name in table_names:\n",
        "    print(table_name)"
      ]
    },
    {
      "cell_type": "code",
      "source": [
        "# Loop through each table and load it into a DataFrame with a dynamically generated name\n",
        "for row in result:\n",
        "    table_name = row[0]\n",
        "    df_name = f\"{table_name}\"\n",
        "    df = pd.read_sql_query(f\"SELECT * FROM {table_name}\", conn)\n",
        "    locals()[df_name] = df"
      ],
      "metadata": {
        "id": "AOvcdhPLwHdR"
      },
      "execution_count": 5,
      "outputs": []
    },
    {
      "cell_type": "code",
      "source": [
        "df_list = []\n",
        "\n",
        "# Loop through each DataFrame name and convert it to a DataFrame object\n",
        "for name in table_names:\n",
        "    df = globals()[name]\n",
        "    df_list.append(df)"
      ],
      "metadata": {
        "id": "M1S7e8GTwHfG"
      },
      "execution_count": 6,
      "outputs": []
    },
    {
      "cell_type": "code",
      "source": [
        "unique_values = []\n",
        "\n",
        "# indicators in each table\n",
        "for i, name in enumerate(table_names[4:11]):\n",
        "    df = df_list[i+4]\n",
        "    print(name)\n",
        "    indicators = df[\"indicator\"].unique()\n",
        "    unique_values += list(indicators)\n",
        "    print(indicators)\n",
        "    print()"
      ],
      "metadata": {
        "id": "lpyFR5rQwHhs",
        "colab": {
          "base_uri": "https://localhost:8080/"
        },
        "outputId": "1f9f483a-d88d-4e45-edad-072216cb4d93"
      },
      "execution_count": 7,
      "outputs": [
        {
          "output_type": "stream",
          "name": "stdout",
          "text": [
            "v_flux_indicator_aggregates\n",
            "['Litterfall - Annual Process' 'Mortality - Annual Process'\n",
            " 'Litterfall - Combined' 'Mortality - Combined' 'Gross Growth'\n",
            " 'Ecosystem Removals' 'Biomass Removals' 'DOM Removals' 'DOM Emissions'\n",
            " 'DOM Emissions - Annual Process' 'BiomassToDOM' 'Decomposition Releases'\n",
            " 'Disturbance Emissions and DOM Annual Process Emissions'\n",
            " 'Deadwood to Air' 'Litter to Air' 'Soil to Air' 'All Emissions'\n",
            " 'CO2 Emissions' 'Annual Mortality' 'Annual Litterfall']\n",
            "\n",
            "v_flux_indicator_aggregates_density\n",
            "['All Emissions' 'Annual Litterfall' 'Annual Mortality' 'Biomass Removals'\n",
            " 'BiomassToDOM' 'CO2 Emissions' 'DOM Emissions'\n",
            " 'DOM Emissions - Annual Process' 'DOM Removals' 'Deadwood to Air'\n",
            " 'Decomposition Releases'\n",
            " 'Disturbance Emissions and DOM Annual Process Emissions'\n",
            " 'Ecosystem Removals' 'Gross Growth' 'Litter to Air'\n",
            " 'Litterfall - Annual Process' 'Litterfall - Combined'\n",
            " 'Mortality - Annual Process' 'Mortality - Combined' 'Soil to Air']\n",
            "\n",
            "v_flux_indicators\n",
            "['DOMCO2Emission' 'DOMCO2Emission - Annual Process' 'BiomassToDOM'\n",
            " 'Litterfall - Annual Process' 'Mortality - Annual Process'\n",
            " 'Litterfall - Combined' 'Mortality - Combined' 'MerchLitterInput'\n",
            " 'FolLitterInput' 'OthLitterInput' 'CoarseLitterInput' 'FineLitterInput'\n",
            " 'VFastAGToAir' 'VFastBGToAir' 'FastAGToAir' 'FastBGToAir' 'MediumToAir'\n",
            " 'SlowAGToAir' 'SlowBGToAir' 'SWStemSnagToAir' 'SWBranchSnagToAir'\n",
            " 'GrossGrowth_AG' 'GrossGrowth_BG']\n",
            "\n",
            "v_flux_indicators_density\n",
            "['BiomassToDOM' 'CoarseLitterInput' 'DOMCO2Emission'\n",
            " 'DOMCO2Emission - Annual Process' 'FastAGToAir' 'FastBGToAir'\n",
            " 'FineLitterInput' 'FolLitterInput' 'GrossGrowth_AG' 'GrossGrowth_BG'\n",
            " 'Litterfall - Annual Process' 'Litterfall - Combined' 'MediumToAir'\n",
            " 'MerchLitterInput' 'Mortality - Annual Process' 'Mortality - Combined'\n",
            " 'OthLitterInput' 'SWBranchSnagToAir' 'SWStemSnagToAir' 'SlowAGToAir'\n",
            " 'SlowBGToAir' 'VFastAGToAir' 'VFastBGToAir']\n",
            "\n",
            "v_pool_indicators\n",
            "['Total Ecosystem' 'Total Biomass' 'Merch/Other' 'Aboveground Biomass'\n",
            " 'Belowground Biomass' 'Deadwood' 'Litter' 'Soil Carbon'\n",
            " 'Dissolved Organic Carbon' 'Total Snag Biomass']\n",
            "\n",
            "v_stock_change_indicators\n",
            "['Annual Litterfall' 'Annual Mortality' 'Deadwood to Atmosphere'\n",
            " 'Decomposition Releases' 'Delta Total Biomass' 'Delta Total DOM'\n",
            " 'Delta Total Ecosystem' 'NBP' 'NEP' 'NPP' 'Rh' 'Soil to Atmosphere'\n",
            " 'Total CO2 Emissions' 'Total DOM Emissions' 'Total Detrital Transfers'\n",
            " 'Total Emissions' 'Total Litterfall' 'Total Mortality']\n",
            "\n",
            "v_stock_change_indicators_density\n",
            "['Annual Litterfall' 'Annual Mortality' 'Deadwood to Atmosphere'\n",
            " 'Decomposition Releases' 'Delta Total Biomass' 'Delta Total DOM'\n",
            " 'Delta Total Ecosystem' 'NBP' 'NEP' 'NPP' 'Rh' 'Soil to Atmosphere'\n",
            " 'Total CO2 Emissions' 'Total DOM Emissions' 'Total Detrital Transfers'\n",
            " 'Total Emissions' 'Total Litterfall' 'Total Mortality']\n",
            "\n"
          ]
        }
      ]
    },
    {
      "cell_type": "code",
      "source": [
        "unique_values_set = set(unique_values)\n",
        "\n",
        "# all indicators for sequestration\n",
        "for value in sorted(unique_values_set):\n",
        "    print(value)"
      ],
      "metadata": {
        "id": "FZnweKkrwHkl",
        "colab": {
          "base_uri": "https://localhost:8080/"
        },
        "outputId": "8bdde015-33db-45e3-f7ee-148da32907a8"
      },
      "execution_count": 8,
      "outputs": [
        {
          "output_type": "stream",
          "name": "stdout",
          "text": [
            "Aboveground Biomass\n",
            "All Emissions\n",
            "Annual Litterfall\n",
            "Annual Mortality\n",
            "Belowground Biomass\n",
            "Biomass Removals\n",
            "BiomassToDOM\n",
            "CO2 Emissions\n",
            "CoarseLitterInput\n",
            "DOM Emissions\n",
            "DOM Emissions - Annual Process\n",
            "DOM Removals\n",
            "DOMCO2Emission\n",
            "DOMCO2Emission - Annual Process\n",
            "Deadwood\n",
            "Deadwood to Air\n",
            "Deadwood to Atmosphere\n",
            "Decomposition Releases\n",
            "Delta Total Biomass\n",
            "Delta Total DOM\n",
            "Delta Total Ecosystem\n",
            "Dissolved Organic Carbon\n",
            "Disturbance Emissions and DOM Annual Process Emissions\n",
            "Ecosystem Removals\n",
            "FastAGToAir\n",
            "FastBGToAir\n",
            "FineLitterInput\n",
            "FolLitterInput\n",
            "Gross Growth\n",
            "GrossGrowth_AG\n",
            "GrossGrowth_BG\n",
            "Litter\n",
            "Litter to Air\n",
            "Litterfall - Annual Process\n",
            "Litterfall - Combined\n",
            "MediumToAir\n",
            "Merch/Other\n",
            "MerchLitterInput\n",
            "Mortality - Annual Process\n",
            "Mortality - Combined\n",
            "NBP\n",
            "NEP\n",
            "NPP\n",
            "OthLitterInput\n",
            "Rh\n",
            "SWBranchSnagToAir\n",
            "SWStemSnagToAir\n",
            "SlowAGToAir\n",
            "SlowBGToAir\n",
            "Soil Carbon\n",
            "Soil to Air\n",
            "Soil to Atmosphere\n",
            "Total Biomass\n",
            "Total CO2 Emissions\n",
            "Total DOM Emissions\n",
            "Total Detrital Transfers\n",
            "Total Ecosystem\n",
            "Total Emissions\n",
            "Total Litterfall\n",
            "Total Mortality\n",
            "Total Snag Biomass\n",
            "VFastAGToAir\n",
            "VFastBGToAir\n"
          ]
        }
      ]
    },
    {
      "cell_type": "code",
      "source": [],
      "metadata": {
        "id": "oV9ovFiCwHos"
      },
      "execution_count": null,
      "outputs": []
    },
    {
      "cell_type": "code",
      "source": [],
      "metadata": {
        "id": "l5peIL8Yvwoi"
      },
      "execution_count": null,
      "outputs": []
    }
  ]
}